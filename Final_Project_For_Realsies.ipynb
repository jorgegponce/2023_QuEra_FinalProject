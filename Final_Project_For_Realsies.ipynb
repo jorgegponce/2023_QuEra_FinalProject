{
 "cells": [
  {
   "cell_type": "code",
   "execution_count": 14,
   "metadata": {},
   "outputs": [],
   "source": [
    "# necessary imports\n",
    "import networkx as nx\n",
    "\n",
    "from braket.aws import AwsDevice\n",
    "from braket.tracking import Tracker\n",
    "\n",
    "from braket.ahs.hamiltonian import Hamiltonian\n",
    "from braket.ahs.atom_arrangement import AtomArrangement\n",
    "from braket.ahs.analog_hamiltonian_simulation import AnalogHamiltonianSimulation\n",
    "\n",
    "from braket.timings.time_series import TimeSeries\n",
    "from braket.ahs.driving_field import DrivingField\n",
    "from braket.ahs.shifting_field import ShiftingField\n",
    "from braket.ahs.field import Field\n",
    "from braket.devices import LocalSimulator\n",
    "\n",
    "import matplotlib.pyplot as plt\n",
    "import time\n",
    "import numpy as np\n",
    "\n",
    "from scipy import optimize\n",
    "from iquhack_utils import visualize_graph"
   ]
  },
  {
   "cell_type": "code",
   "execution_count": 20,
   "metadata": {},
   "outputs": [],
   "source": [
    "def get_final_detuning(blockade_radius,C6):\n",
    "    final_detuning = C6 / np.power(blockade_radius,6)\n",
    "    return final_detuning"
   ]
  },
  {
   "attachments": {},
   "cell_type": "markdown",
   "metadata": {},
   "source": [
    "# Load Graphs!"
   ]
  },
  {
   "attachments": {},
   "cell_type": "markdown",
   "metadata": {},
   "source": [
    "graph = {\n",
    "    \"positions\" = []\n",
    "    \"logical_graph\" = []\n",
    "    \"register\" = []\n",
    "}"
   ]
  },
  {
   "cell_type": "code",
   "execution_count": 53,
   "metadata": {},
   "outputs": [],
   "source": [
    "# from Graphs folder\n",
    "\n",
    "graph_name = \"small_lieb\"\n",
    "\n",
    "n_nodes = 10\n",
    "\n",
    "lattice_constant = 40\n",
    "\n",
    "radius = 40\n",
    "\n",
    "\n",
    "atomsX = np.array([80.0, 120.0, 160.0, 80.0, 160.0, 80.0, 120.0, 160.0, 200.0, 200.0, 0.0, 0.0, 0.0, 0.0, 0.0, 0.0, 0.0, 0.0, 0.0, 0.0, 0.0, 0.0, 0.0, 0.0, 0.0, 0.0, 0.0, 0.0, 0.0, 0.0, 0.0, 0.0, 0.0, 0.0, 0.0, 0.0, 0.0, 0.0, 0.0, 0.0, 0.0, 0.0, 0.0, 0.0, 0.0, 0.0, 0.0, 0.0, 0.0, 0.0, 0.0, 0.0, 0.0, 0.0, 0.0, 0.0, 0.0, 0.0, 0.0, 0.0, 0.0, 0.0, 0.0, 0.0, 0.0, 0.0, 0.0, 0.0, 0.0, 0.0, 0.0, 0.0, 0.0, 0.0, 0.0, 0.0, 0.0, 0.0, 0.0, 0.0, 0.0, 0.0, 0.0, 0.0, 0.0, 0.0, 0.0, 0.0, 0.0, 0.0, 0.0, 0.0, 0.0, 0.0, 0.0, 0.0, 0.0, 0.0, 0.0, 0.0, 0.0, 0.0, 0.0, 0.0, 0.0, 0.0, 0.0, 0.0, 0.0, 0.0, 0.0, 0.0, 0.0, 0.0, 0.0, 0.0, 0.0, 0.0, 0.0, 0.0, 0.0, 0.0, 0.0, 0.0, 0.0, 0.0, 0.0, 0.0, 0.0, 0.0, 0.0, 0.0, 0.0, 0.0, 0.0, 0.0, 0.0, 0.0, 0.0, 0.0, 0.0, 0.0, 0.0, 0.0, 0.0, 0.0, 0.0, 0.0, 0.0, 0.0, 0.0, 0.0, 0.0, 0.0, 0.0, 0.0, 0.0, 0.0, 0.0, 0.0, 0.0, 0.0, 0.0, 0.0, 0.0, 0.0, 0.0, 0.0, 0.0, 0.0, 0.0, 0.0, 0.0, 0.0, 0.0, 0.0, 0.0, 0.0, 0.0, 0.0, 0.0, 0.0, 0.0, 0.0, 0.0, 0.0, 0.0, 0.0, 0.0, 0.0, 0.0, 0.0, 0.0, 0.0, 0.0, 0.0, 0.0, 0.0, 0.0, 0.0, 0.0, 0.0, 0.0, 0.0, 0.0, 0.0, 0.0, 0.0, 0.0, 0.0, 0.0, 0.0, 0.0, 0.0, 0.0, 0.0, 0.0, 0.0, 0.0, 0.0, 0.0, 0.0, 0.0, 0.0, 0.0, 0.0, 0.0, 0.0, 0.0, 0.0, 0.0, 0.0, 0.0, 0.0, 0.0, 0.0, 0.0, 0.0, 0.0, 0.0, 0.0, 0.0, 0.0, 0.0, 0.0, 0.0, 0.0, 0.0, 0.0, 0.0, 0.0, 0.0, 0.0, 0.0, 0.0, 0.0 ])\n",
    "\n",
    "atomsY = np.array([40.0, 40.0, 40.0, 80.0, 80.0, 120.0, 120.0, 120.0, 120.0, 40.0, 0.0, 0.0, 0.0, 0.0, 0.0, 0.0, 0.0, 0.0, 0.0, 0.0, 0.0, 0.0, 0.0, 0.0, 0.0, 0.0, 0.0, 0.0, 0.0, 0.0, 0.0, 0.0, 0.0, 0.0, 0.0, 0.0, 0.0, 0.0, 0.0, 0.0, 0.0, 0.0, 0.0, 0.0, 0.0, 0.0, 0.0, 0.0, 0.0, 0.0, 0.0, 0.0, 0.0, 0.0, 0.0, 0.0, 0.0, 0.0, 0.0, 0.0, 0.0, 0.0, 0.0, 0.0, 0.0, 0.0, 0.0, 0.0, 0.0, 0.0, 0.0, 0.0, 0.0, 0.0, 0.0, 0.0, 0.0, 0.0, 0.0, 0.0, 0.0, 0.0, 0.0, 0.0, 0.0, 0.0, 0.0, 0.0, 0.0, 0.0, 0.0, 0.0, 0.0, 0.0, 0.0, 0.0, 0.0, 0.0, 0.0, 0.0, 0.0, 0.0, 0.0, 0.0, 0.0, 0.0, 0.0, 0.0, 0.0, 0.0, 0.0, 0.0, 0.0, 0.0, 0.0, 0.0, 0.0, 0.0, 0.0, 0.0, 0.0, 0.0, 0.0, 0.0, 0.0, 0.0, 0.0, 0.0, 0.0, 0.0, 0.0, 0.0, 0.0, 0.0, 0.0, 0.0, 0.0, 0.0, 0.0, 0.0, 0.0, 0.0, 0.0, 0.0, 0.0, 0.0, 0.0, 0.0, 0.0, 0.0, 0.0, 0.0, 0.0, 0.0, 0.0, 0.0, 0.0, 0.0, 0.0, 0.0, 0.0, 0.0, 0.0, 0.0, 0.0, 0.0, 0.0, 0.0, 0.0, 0.0, 0.0, 0.0, 0.0, 0.0, 0.0, 0.0, 0.0, 0.0, 0.0, 0.0, 0.0, 0.0, 0.0, 0.0, 0.0, 0.0, 0.0, 0.0, 0.0, 0.0, 0.0, 0.0, 0.0, 0.0, 0.0, 0.0, 0.0, 0.0, 0.0, 0.0, 0.0, 0.0, 0.0, 0.0, 0.0, 0.0, 0.0, 0.0, 0.0, 0.0, 0.0, 0.0, 0.0, 0.0, 0.0, 0.0, 0.0, 0.0, 0.0, 0.0, 0.0, 0.0, 0.0, 0.0, 0.0, 0.0, 0.0, 0.0, 0.0, 0.0, 0.0, 0.0, 0.0, 0.0, 0.0, 0.0, 0.0, 0.0, 0.0, 0.0, 0.0, 0.0, 0.0, 0.0, 0.0, 0.0, 0.0, 0.0, 0.0, 0.0, 0.0, 0.0, 0.0, 0.0, 0.0, 0.0 ])\n",
    "\n",
    "scale = 2e-7\n"
   ]
  },
  {
   "cell_type": "code",
   "execution_count": 47,
   "metadata": {},
   "outputs": [
    {
     "data": {
      "image/png": "[encoded data removed]",
      "text/plain": [
       "<Figure size 640x480 with 1 Axes>"
      ]
     },
     "metadata": {},
     "output_type": "display_data"
    }
   ],
   "source": [
    "def generate_graph_from_data(atomsX, atomsY, n_nodes, blockade_radius):\n",
    "\n",
    "    atom_list = []\n",
    "    for ii in range(n_nodes):\n",
    "        atom_list.append((atomsX[ii], atomsY[ii]))\n",
    "\n",
    "    G = nx.Graph()\n",
    "\n",
    "    nodes = []\n",
    "    for ii in range(len(atom_list)):\n",
    "        nodes.append((ii, {\"pos\":atom_list[ii]}))\n",
    "\n",
    "    G.add_nodes_from(nodes)\n",
    "\n",
    "    G.add_edges_from(nx.geometric_edges(G, radius=blockade_radius))\n",
    "\n",
    "    # G = nx.Graph()\n",
    "    # for ii in range(len(atom_list)):\n",
    "    #     G.add_node(ii)\n",
    "\n",
    "    # for ii in range(len(verticesFirst)):\n",
    "    #     G.add_edge(verticesFirst[ii], verticesSecond[ii])\n",
    "    \n",
    "\n",
    "    return atom_list, G\n",
    "\n",
    "positions, G = generate_graph_from_data(atomsX, atomsY, n_nodes, radius)\n",
    "\n",
    "fig = plt.figure()\n",
    "ax = plt.subplot(1,1,1)\n",
    "visualize_graph(ax, G,positions)\n",
    "plt.show()\n",
    "    "
   ]
  },
  {
   "cell_type": "code",
   "execution_count": 48,
   "metadata": {},
   "outputs": [
    {
     "data": {
      "image/png": "[encoded data removed]",
      "text/plain": [
       "<Figure size 640x480 with 1 Axes>"
      ]
     },
     "metadata": {},
     "output_type": "display_data"
    }
   ],
   "source": [
    "def find_UDG_radius(position, graph):\n",
    "    '''\n",
    "    Computes the optimal unit disk radius for a particular set of positions and graph.\n",
    "    position   - [N] array of tuples (coordinates)\n",
    "    graph       - network connectivity graph. This should be a unit disk graph.\n",
    "    \n",
    "    returns\n",
    "    radius      - Optimal unit disk radius of the graph\n",
    "    rmin        - Minimum distance\n",
    "    rmax        - Maximum distance\n",
    "    '''\n",
    "    \n",
    "    position = np.array(position)\n",
    "    dists = np.sqrt((position[:,0,None] - position[:,0])**2\n",
    "               + (position[:,1,None] - position[:,1])**2)\n",
    "    rmin = 0\n",
    "    rmax = np.inf\n",
    "    for i in range(position.shape[0]):\n",
    "        for j in range(i+1,position.shape[0]):\n",
    "            if (i,j) in graph.edges:\n",
    "                if rmin<dists[i,j]:\n",
    "                    rmin = dists[i,j]\n",
    "            elif (i,j) not in graph.edges:\n",
    "                if rmax>dists[i,j]:\n",
    "                    rmax = dists[i,j]\n",
    "    \n",
    "    if rmin>rmax:\n",
    "        print(rmin,rmax)\n",
    "        raise BaseException(\"Graph is not a unit disk graph!\")\n",
    "    \n",
    "    return np.sqrt(rmin*rmax),rmin,rmax\n",
    "\n",
    "# Find unit disk radius\n",
    "unitdisk_radius,min_radius,max_radius = find_UDG_radius(positions, G)\n",
    "\n",
    "\n",
    "\n",
    "\n",
    "# Visualize using networkx\n",
    "fig = plt.figure()\n",
    "ax = plt.subplot(1,1,1)\n",
    "visualize_graph(ax,G,positions)\n",
    "\n",
    "\n",
    "# Draw the minimum and maximum unit disk radius of the graph\n",
    "x0,y0 = (positions[0][0],positions[0][1])\n",
    "angles = np.linspace(np.pi/2,np.pi,1001)\n",
    "ax.plot(min_radius*np.cos(angles)+x0,min_radius*np.sin(angles)+y0,\n",
    "        linestyle=\":\",color=\"red\",label=\"$R_{min}$\")\n",
    "ax.plot(unitdisk_radius*np.cos(angles)+x0,unitdisk_radius*np.sin(angles)+y0,\n",
    "        linestyle=\"--\",color=\"red\",label=\"$\\sqrt{R_{max}R_{min}}$\")\n",
    "ax.plot(max_radius*np.cos(angles)+x0,max_radius*np.sin(angles)+y0,\n",
    "        linestyle=\"-\",color=\"red\",label=\"$R_{max}$\")\n",
    "\n",
    "ax.scatter(x0,y0,color=\"red\",zorder=3,marker=\"o\",s=350)\n",
    "# ax.set_xlim((-0.25,3))\n",
    "plt.legend(loc=\"upper right\",)\n",
    "plt.show()"
   ]
  },
  {
   "cell_type": "code",
   "execution_count": 49,
   "metadata": {},
   "outputs": [
    {
     "name": "stdout",
     "output_type": "stream",
     "text": [
      "2e-07\n",
      "9.51365692002177e-06\n",
      "7309949.405729458\n"
     ]
    }
   ],
   "source": [
    "# scaling the UDR to the desired rydberg radius to aquila dimensions and finding the Final Detuning\n",
    "from iquhack_utils import C6\n",
    "\n",
    "blockade_radius = unitdisk_radius*scale\n",
    "\n",
    "Delta_final = get_final_detuning(blockade_radius, C6)\n",
    "\n",
    "print(scale)\n",
    "\n",
    "print(blockade_radius)\n",
    "\n",
    "print(Delta_final)\n"
   ]
  },
  {
   "cell_type": "code",
   "execution_count": 54,
   "metadata": {},
   "outputs": [],
   "source": [
    "graph = {\n",
    "    \"name\": graph_name,\n",
    "    \"positions\": positions,\n",
    "    \"scale\": scale,\n",
    "    \"optimal_unit_disk\": unitdisk_radius,\n",
    "    \"blockade_radius\": blockade_radius,\n",
    "    \"final_detuning\": Delta_final\n",
    "}"
   ]
  },
  {
   "cell_type": "code",
   "execution_count": 55,
   "metadata": {},
   "outputs": [
    {
     "data": {
      "text/plain": [
       "{'name': 'small_lieb',\n",
       " 'positions': [(80.0, 40.0),\n",
       "  (120.0, 40.0),\n",
       "  (160.0, 40.0),\n",
       "  (80.0, 80.0),\n",
       "  (160.0, 80.0),\n",
       "  (80.0, 120.0),\n",
       "  (120.0, 120.0),\n",
       "  (160.0, 120.0),\n",
       "  (200.0, 120.0),\n",
       "  (200.0, 40.0)],\n",
       " 'scale': 2e-07,\n",
       " 'optimal_unit_disk': 47.568284600108846,\n",
       " 'blockade_radius': 9.51365692002177e-06,\n",
       " 'final_detuning': 7309949.405729458}"
      ]
     },
     "execution_count": 55,
     "metadata": {},
     "output_type": "execute_result"
    }
   ],
   "source": [
    "graph"
   ]
  },
  {
   "attachments": {},
   "cell_type": "markdown",
   "metadata": {},
   "source": [
    "# Saving to JSON file"
   ]
  },
  {
   "cell_type": "code",
   "execution_count": 56,
   "metadata": {},
   "outputs": [],
   "source": [
    "import json\n",
    "\n",
    "filename = graph_name  +\".json\"\n",
    "\n",
    "path = \"Graphs_Pre_Aquila/\" + filename\n",
    "\n",
    "with open(path, \"w\") as outfile:\n",
    "    json.dump(graph, outfile)"
   ]
  },
  {
   "cell_type": "code",
   "execution_count": null,
   "metadata": {},
   "outputs": [],
   "source": []
  }
 ],
 "metadata": {
  "kernelspec": {
   "display_name": "pythonvenv",
   "language": "python",
   "name": "python3"
  },
  "language_info": {
   "codemirror_mode": {
    "name": "ipython",
    "version": 3
   },
   "file_extension": ".py",
   "mimetype": "text/x-python",
   "name": "python",
   "nbconvert_exporter": "python",
   "pygments_lexer": "ipython3",
   "version": "3.10.8"
  },
  "orig_nbformat": 4
 },
 "nbformat": 4,
 "nbformat_minor": 2
}
